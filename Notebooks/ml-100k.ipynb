{
 "cells": [
  {
   "cell_type": "markdown",
   "metadata": {},
   "source": [
    "# Things to look at\n",
    "\n",
    "Some lines may be out of order. Please re-order them.\n",
    "\n",
    "\n",
    "- **Labels :** I do not really know how to form correct labels. As of now I run \n",
    "```python\n",
    "num_samples = values.shape[0]\n",
    "labels = torch.randint(low=0, high=2, size=(num_samples,), dtype=torch.float32)\n",
    "```\n",
    "to generate labels which are simply random 0,1s but of shape that was compatible with GNN.\n",
    "I did not understand how to get this.\n",
    "if you look at examples/example.py for `Bail` and print you will get :\n",
    "```bash\n",
    "torch.Size([18876, 18876]) torch.Size([18876, 18]) torch.Size([18876])\n",
    "```\n",
    "\n",
    "- **Train/test/val splits:** I'm not sure if this is correct. In Bail() they did it after getting the labels.\n",
    "This can be seen as a commented block taken from `Bail()` loading function for generating test_train_val splits. However, this might be different as well. But Bail() does seem to have 0/1 labels taken from the bail dataset.\n",
    "\n",
    "- I'm not too sure what the fuck they are doing with `user_sens` or `sens_idx', maybe they just take it to use to get the group-based fairness scores we are trying to calculate (99% sure)\n",
    "\n",
    "-> I think they're using sens_idx to keep track of the different sensitive groups? user_sens should be the sensitive attributes, e.g. 0 or 1 for gender\n",
    "\n",
    "- **features:** The graph is bipartite so we cannot just add only user-features, since we need to maintain shapes, we also have to add movie-features. I add `torch.zeros` as movie features as of now.\n",
    "\n",
    "\n",
    "**Note: The shapes should be of form**\n",
    "```python\n",
    "print(adj.shape,feats.shape,labels.shape)\n",
    "```\n",
    "$N \\times N$; $N \\times D$; $N$ where D are D dimensional features. In our case since I use age and occupation its 2 as seen below."
   ]
  },
  {
   "cell_type": "markdown",
   "metadata": {},
   "source": [
    "Use `.item()` if only 1 tensor([1.123]) or\n",
    "use `.detach().cpu().numpy()` if you want to convert to numpy array"
   ]
  },
  {
   "cell_type": "code",
   "execution_count": 60,
   "metadata": {},
   "outputs": [
    {
     "ename": "RuntimeError",
     "evalue": "CUDA error: device-side assert triggered\nCUDA kernel errors might be asynchronously reported at some other API call,so the stacktrace below might be incorrect.\nFor debugging consider passing CUDA_LAUNCH_BLOCKING=1.",
     "output_type": "error",
     "traceback": [
      "\u001b[0;31m---------------------------------------------------------------------------\u001b[0m",
      "\u001b[0;31mRuntimeError\u001b[0m                              Traceback (most recent call last)",
      "Input \u001b[0;32mIn [60]\u001b[0m, in \u001b[0;36m<cell line: 9>\u001b[0;34m()\u001b[0m\n\u001b[1;32m      5\u001b[0m     np\u001b[38;5;241m.\u001b[39mrandom\u001b[38;5;241m.\u001b[39mseed(seed)\n\u001b[1;32m      6\u001b[0m     random\u001b[38;5;241m.\u001b[39mseed(seed)\n\u001b[0;32m----> 9\u001b[0m \u001b[43msetup_seed\u001b[49m\u001b[43m(\u001b[49m\u001b[38;5;241;43m11\u001b[39;49m\u001b[43m)\u001b[49m\n",
      "Input \u001b[0;32mIn [60]\u001b[0m, in \u001b[0;36msetup_seed\u001b[0;34m(seed)\u001b[0m\n\u001b[1;32m      1\u001b[0m \u001b[38;5;28;01mdef\u001b[39;00m \u001b[38;5;21msetup_seed\u001b[39m(seed):\n\u001b[0;32m----> 2\u001b[0m     \u001b[43mtorch\u001b[49m\u001b[38;5;241;43m.\u001b[39;49m\u001b[43mmanual_seed\u001b[49m\u001b[43m(\u001b[49m\u001b[43mseed\u001b[49m\u001b[43m)\u001b[49m\n\u001b[1;32m      3\u001b[0m     torch\u001b[38;5;241m.\u001b[39mcuda\u001b[38;5;241m.\u001b[39mmanual_seed_all(seed)\n\u001b[1;32m      4\u001b[0m     torch\u001b[38;5;241m.\u001b[39mbackends\u001b[38;5;241m.\u001b[39mcudnn\u001b[38;5;241m.\u001b[39mdeterministic \u001b[38;5;241m=\u001b[39m \u001b[38;5;28;01mTrue\u001b[39;00m\n",
      "File \u001b[0;32m~/miniconda3/envs/pygdebias/lib/python3.9/site-packages/torch/random.py:40\u001b[0m, in \u001b[0;36mmanual_seed\u001b[0;34m(seed)\u001b[0m\n\u001b[1;32m     37\u001b[0m \u001b[38;5;28;01mimport\u001b[39;00m \u001b[38;5;21;01mtorch\u001b[39;00m\u001b[38;5;21;01m.\u001b[39;00m\u001b[38;5;21;01mcuda\u001b[39;00m\n\u001b[1;32m     39\u001b[0m \u001b[38;5;28;01mif\u001b[39;00m \u001b[38;5;129;01mnot\u001b[39;00m torch\u001b[38;5;241m.\u001b[39mcuda\u001b[38;5;241m.\u001b[39m_is_in_bad_fork():\n\u001b[0;32m---> 40\u001b[0m     \u001b[43mtorch\u001b[49m\u001b[38;5;241;43m.\u001b[39;49m\u001b[43mcuda\u001b[49m\u001b[38;5;241;43m.\u001b[39;49m\u001b[43mmanual_seed_all\u001b[49m\u001b[43m(\u001b[49m\u001b[43mseed\u001b[49m\u001b[43m)\u001b[49m\n\u001b[1;32m     42\u001b[0m \u001b[38;5;28;01mreturn\u001b[39;00m default_generator\u001b[38;5;241m.\u001b[39mmanual_seed(seed)\n",
      "File \u001b[0;32m~/miniconda3/envs/pygdebias/lib/python3.9/site-packages/torch/cuda/random.py:113\u001b[0m, in \u001b[0;36mmanual_seed_all\u001b[0;34m(seed)\u001b[0m\n\u001b[1;32m    110\u001b[0m         default_generator \u001b[38;5;241m=\u001b[39m torch\u001b[38;5;241m.\u001b[39mcuda\u001b[38;5;241m.\u001b[39mdefault_generators[i]\n\u001b[1;32m    111\u001b[0m         default_generator\u001b[38;5;241m.\u001b[39mmanual_seed(seed)\n\u001b[0;32m--> 113\u001b[0m \u001b[43m_lazy_call\u001b[49m\u001b[43m(\u001b[49m\u001b[43mcb\u001b[49m\u001b[43m,\u001b[49m\u001b[43m \u001b[49m\u001b[43mseed_all\u001b[49m\u001b[38;5;241;43m=\u001b[39;49m\u001b[38;5;28;43;01mTrue\u001b[39;49;00m\u001b[43m)\u001b[49m\n",
      "File \u001b[0;32m~/miniconda3/envs/pygdebias/lib/python3.9/site-packages/torch/cuda/__init__.py:156\u001b[0m, in \u001b[0;36m_lazy_call\u001b[0;34m(callable, **kwargs)\u001b[0m\n\u001b[1;32m    154\u001b[0m \u001b[38;5;28;01mdef\u001b[39;00m \u001b[38;5;21m_lazy_call\u001b[39m(\u001b[38;5;28mcallable\u001b[39m, \u001b[38;5;241m*\u001b[39m\u001b[38;5;241m*\u001b[39mkwargs):\n\u001b[1;32m    155\u001b[0m     \u001b[38;5;28;01mif\u001b[39;00m is_initialized():\n\u001b[0;32m--> 156\u001b[0m         \u001b[38;5;28;43mcallable\u001b[39;49m\u001b[43m(\u001b[49m\u001b[43m)\u001b[49m\n\u001b[1;32m    157\u001b[0m     \u001b[38;5;28;01melse\u001b[39;00m:\n\u001b[1;32m    158\u001b[0m         \u001b[38;5;66;03m# TODO(torch_deploy): this accesses linecache, which attempts to read the\u001b[39;00m\n\u001b[1;32m    159\u001b[0m         \u001b[38;5;66;03m# file system to get traceback info. Patch linecache or do something\u001b[39;00m\n\u001b[1;32m    160\u001b[0m         \u001b[38;5;66;03m# else here if this ends up being important.\u001b[39;00m\n\u001b[1;32m    161\u001b[0m         \u001b[38;5;28;01mglobal\u001b[39;00m _lazy_seed_tracker\n",
      "File \u001b[0;32m~/miniconda3/envs/pygdebias/lib/python3.9/site-packages/torch/cuda/random.py:111\u001b[0m, in \u001b[0;36mmanual_seed_all.<locals>.cb\u001b[0;34m()\u001b[0m\n\u001b[1;32m    109\u001b[0m \u001b[38;5;28;01mfor\u001b[39;00m i \u001b[38;5;129;01min\u001b[39;00m \u001b[38;5;28mrange\u001b[39m(device_count()):\n\u001b[1;32m    110\u001b[0m     default_generator \u001b[38;5;241m=\u001b[39m torch\u001b[38;5;241m.\u001b[39mcuda\u001b[38;5;241m.\u001b[39mdefault_generators[i]\n\u001b[0;32m--> 111\u001b[0m     \u001b[43mdefault_generator\u001b[49m\u001b[38;5;241;43m.\u001b[39;49m\u001b[43mmanual_seed\u001b[49m\u001b[43m(\u001b[49m\u001b[43mseed\u001b[49m\u001b[43m)\u001b[49m\n",
      "\u001b[0;31mRuntimeError\u001b[0m: CUDA error: device-side assert triggered\nCUDA kernel errors might be asynchronously reported at some other API call,so the stacktrace below might be incorrect.\nFor debugging consider passing CUDA_LAUNCH_BLOCKING=1."
     ]
    }
   ],
   "source": [
    "def setup_seed(seed):\n",
    "    torch.manual_seed(seed)\n",
    "    torch.cuda.manual_seed_all(seed)\n",
    "    torch.backends.cudnn.deterministic = True\n",
    "    np.random.seed(seed)\n",
    "    random.seed(seed)\n",
    "\n",
    "\n",
    "setup_seed(11)"
   ]
  },
  {
   "cell_type": "code",
   "execution_count": 41,
   "metadata": {},
   "outputs": [
    {
     "name": "stdout",
     "output_type": "stream",
     "text": [
      "torch.Size([1682])\n",
      "torch.Size([943])\n"
     ]
    }
   ],
   "source": [
    "import numpy as np\n",
    "from collections import defaultdict\n",
    "import torch\n",
    "import random\n",
    "import pandas as pd\n",
    "import pandas as pd\n",
    "\n",
    "from dataset import Ml_100k\n",
    "#from ..pygdebias.datasets import Ml_100k\n",
    "import scipy.sparse as sp\n",
    "\n",
    "ml100k = Ml_100k()\n",
    "rating_matrix,user_sens=ml100k.rating_matrix ,ml100k.user_sens\n",
    "\n",
    "print(rating_matrix[0].shape)\n",
    "\n",
    "print(user_sens.shape)\n",
    "\n",
    "\n",
    "\n",
    "user_num = user_sens.shape[0]\n",
    "item_num = rating_matrix[0].shape[0]\n",
    "\n"
   ]
  },
  {
   "cell_type": "code",
   "execution_count": 42,
   "metadata": {},
   "outputs": [
    {
     "data": {
      "text/plain": [
       "torch.Size([943, 1682])"
      ]
     },
     "execution_count": 42,
     "metadata": {},
     "output_type": "execute_result"
    }
   ],
   "source": [
    "rating_matrix.shape"
   ]
  },
  {
   "cell_type": "code",
   "execution_count": 43,
   "metadata": {},
   "outputs": [],
   "source": [
    "rm=rating_matrix.detach().numpy()"
   ]
  },
  {
   "cell_type": "code",
   "execution_count": 44,
   "metadata": {},
   "outputs": [],
   "source": [
    "l_r=rm.reshape([-1])"
   ]
  },
  {
   "cell_type": "code",
   "execution_count": 45,
   "metadata": {},
   "outputs": [],
   "source": [
    "non_zero=np.argwhere(rm>0)"
   ]
  },
  {
   "cell_type": "code",
   "execution_count": 46,
   "metadata": {},
   "outputs": [
    {
     "data": {
      "text/plain": [
       "(100000, 2)"
      ]
     },
     "execution_count": 46,
     "metadata": {},
     "output_type": "execute_result"
    }
   ],
   "source": [
    "non_zero.shape"
   ]
  },
  {
   "cell_type": "code",
   "execution_count": 52,
   "metadata": {},
   "outputs": [],
   "source": [
    "rm=rating_matrix.detach().numpy()\n",
    "l_r=rm.reshape([-1])\n",
    "non_zero=np.argwhere(rm>0)\n",
    "labels=rating_matrix[non_zero[:, 0], non_zero[:, 1]]\n",
    "labels[labels<4]=0\n",
    "labels[labels>=4]=1\n"
   ]
  },
  {
   "cell_type": "code",
   "execution_count": 53,
   "metadata": {},
   "outputs": [
    {
     "data": {
      "text/plain": [
       "tensor([1., 0., 1.,  ..., 0., 0., 0.], dtype=torch.float64)"
      ]
     },
     "execution_count": 53,
     "metadata": {},
     "output_type": "execute_result"
    }
   ],
   "source": [
    "labels"
   ]
  },
  {
   "cell_type": "code",
   "execution_count": 8,
   "metadata": {},
   "outputs": [
    {
     "data": {
      "text/plain": [
       "tensor([5., 3., 4.,  ..., 3., 3., 3.], dtype=torch.float64)"
      ]
     },
     "execution_count": 8,
     "metadata": {},
     "output_type": "execute_result"
    }
   ],
   "source": [
    "rating_matrix[non_zero[:, 0], non_zero[:, 1]]"
   ]
  },
  {
   "cell_type": "code",
   "execution_count": 9,
   "metadata": {},
   "outputs": [],
   "source": [
    "import numpy as np\n",
    "\n",
    "def save_data(rating_matrix, user_sens):\n",
    "    \"\"\"\n",
    "    Save the rating matrix and user_sens into separate numpy array files.\n",
    "    \n",
    "    Args:\n",
    "        rating_matrix (np.ndarray): The user-item rating matrix.\n",
    "        user_sens (np.ndarray): The user sensitivity array.\n",
    "    \"\"\"\n",
    "    np.save('rating_matrix.npy', rating_matrix)\n",
    "    np.save('user_sens.npy', user_sens)\n",
    "\n",
    "def load_data():\n",
    "    \"\"\"\n",
    "    Load the rating matrix and user_sens from the saved numpy array files.\n",
    "    \n",
    "    Returns:\n",
    "        np.ndarray: The user-item rating matrix.\n",
    "        np.ndarray: The user sensitivity array.\n",
    "    \"\"\"\n",
    "    rating_matrix = np.load('rating_matrix.npy')\n",
    "    user_sens = np.load('user_sens.npy')\n",
    "    return torch.tensor(rating_matrix), torch.tensor(user_sens)\n"
   ]
  },
  {
   "cell_type": "code",
   "execution_count": 10,
   "metadata": {},
   "outputs": [],
   "source": [
    "#save_data(rating_matrix,user_sens)"
   ]
  },
  {
   "cell_type": "code",
   "execution_count": 11,
   "metadata": {},
   "outputs": [],
   "source": [
    "#rm,uss=load_data()"
   ]
  },
  {
   "cell_type": "markdown",
   "metadata": {},
   "source": [
    "# Random Train/Test Indices"
   ]
  },
  {
   "cell_type": "code",
   "execution_count": 89,
   "metadata": {},
   "outputs": [],
   "source": [
    "idx = np.arange(user_num)\n",
    "np.random.shuffle(idx)\n",
    "num_train = int(0.5 * len(idx))\n",
    "num_val = int(0.25 * len(idx))\n",
    "idx_train = torch.LongTensor(idx[:num_train])\n",
    "idx_val = torch.LongTensor(idx[num_train:num_train + num_val])\n",
    "idx_test = torch.LongTensor(idx[num_train + num_val:])"
   ]
  },
  {
   "cell_type": "code",
   "execution_count": 13,
   "metadata": {},
   "outputs": [],
   "source": [
    "        # label_idx_0 = np.where(labels == 0)[0]\n",
    "        # label_idx_1 = np.where(labels == 1)[0]\n",
    "        # random.shuffle(label_idx_0)\n",
    "        # random.shuffle(label_idx_1)\n",
    "        # idx_train = np.append(\n",
    "        #     label_idx_0[: min(int(0.5 * len(label_idx_0)), label_number // 2)],\n",
    "        #     label_idx_1[: min(int(0.5 * len(label_idx_1)), label_number // 2)],\n",
    "        # )\n",
    "        # idx_val = np.append(\n",
    "        #     label_idx_0[int(0.5 * len(label_idx_0)) : int(0.75 * len(label_idx_0))],\n",
    "        #     label_idx_1[int(0.5 * len(label_idx_1)) : int(0.75 * len(label_idx_1))],\n",
    "        # )\n",
    "        # idx_test = np.append(\n",
    "        #     label_idx_0[int(0.75 * len(label_idx_0)) :],\n",
    "        #     label_idx_1[int(0.75 * len(label_idx_1)) :],\n",
    "        # )"
   ]
  },
  {
   "cell_type": "code",
   "execution_count": 14,
   "metadata": {},
   "outputs": [],
   "source": [
    "sens=user_sens"
   ]
  },
  {
   "cell_type": "code",
   "execution_count": 15,
   "metadata": {},
   "outputs": [],
   "source": [
    "rows, cols = np.where(rating_matrix> 0)\n",
    "values = np.ones_like(rows) # Indicate edges with 1s"
   ]
  },
  {
   "cell_type": "markdown",
   "metadata": {},
   "source": [
    "# Adjacencey Matrix Definition\n",
    "Its a bit wierd because it's Bi-partite.\n",
    "Take a look here: https://en.wikipedia.org/wiki/Adjacency_matrix#Adjacency_matrix_of_a_bipartite_graph"
   ]
  },
  {
   "cell_type": "code",
   "execution_count": 16,
   "metadata": {},
   "outputs": [],
   "source": [
    "adj = sp.coo_matrix((values, (rows, cols + user_num)), shape=(user_num + item_num, user_num + item_num))\n",
    "adj = torch.sparse_coo_tensor(torch.LongTensor(np.vstack([adj.row, adj.col])), torch.FloatTensor(adj.data),\n",
    "                                           torch.Size(adj.shape))"
   ]
  },
  {
   "cell_type": "markdown",
   "metadata": {},
   "source": [
    "# Labels"
   ]
  },
  {
   "cell_type": "code",
   "execution_count": 10,
   "metadata": {},
   "outputs": [],
   "source": [
    "#rows_1,cols_1=np.where(rating_matrix>= 3)\n",
    "#labels = np.zeros_like(rating_matrix)\n",
    "#labels[rows_1, cols_1] = 1 # Recommendation for ratings above 3, otherwise no recommendation?"
   ]
  },
  {
   "cell_type": "code",
   "execution_count": null,
   "metadata": {},
   "outputs": [],
   "source": []
  },
  {
   "cell_type": "markdown",
   "metadata": {},
   "source": [
    "Labels are not accurate currently, just random:"
   ]
  },
  {
   "cell_type": "code",
   "execution_count": 26,
   "metadata": {},
   "outputs": [
    {
     "data": {
      "text/plain": [
       "tensor([[5., 3., 4.,  ..., 0., 0., 0.],\n",
       "        [4., 0., 0.,  ..., 0., 0., 0.],\n",
       "        [0., 0., 0.,  ..., 0., 0., 0.],\n",
       "        ...,\n",
       "        [5., 0., 0.,  ..., 0., 0., 0.],\n",
       "        [0., 0., 0.,  ..., 0., 0., 0.],\n",
       "        [0., 5., 0.,  ..., 0., 0., 0.]], dtype=torch.float64)"
      ]
     },
     "execution_count": 26,
     "metadata": {},
     "output_type": "execute_result"
    }
   ],
   "source": [
    "rating_matrix"
   ]
  },
  {
   "cell_type": "code",
   "execution_count": 11,
   "metadata": {},
   "outputs": [],
   "source": [
    "num_samples = values.shape[0]\n",
    "labels = torch.randint(low=0, high=2, size=(num_samples,), dtype=torch.float32)"
   ]
  },
  {
   "cell_type": "markdown",
   "metadata": {},
   "source": [
    "# Edges"
   ]
  },
  {
   "cell_type": "code",
   "execution_count": 17,
   "metadata": {},
   "outputs": [],
   "source": [
    "edges = torch.tensor(np.column_stack([rows, cols + user_num]))"
   ]
  },
  {
   "cell_type": "markdown",
   "metadata": {},
   "source": [
    "# Sensitive features"
   ]
  },
  {
   "cell_type": "code",
   "execution_count": 18,
   "metadata": {},
   "outputs": [],
   "source": [
    "sens_idx=np.where(ml100k.user_sens==1)[0] # Gender based at the moment"
   ]
  },
  {
   "cell_type": "markdown",
   "metadata": {},
   "source": [
    "Read using Pandas"
   ]
  },
  {
   "cell_type": "code",
   "execution_count": 110,
   "metadata": {},
   "outputs": [],
   "source": [
    "user_info = open(\"dataset/ml-100k/\"+\"u.user\")\n",
    "user_feat = []\n",
    "for line in user_info:\n",
    "    infor = line.strip().split(\"|\")\n",
    "    user_feat.append(infor[1:])\n",
    "\n",
    "user_feat=pd.DataFrame(data=user_feat,columns=[\"age\",\"gender\",\"occupation\",\"zipcode\"])"
   ]
  },
  {
   "cell_type": "markdown",
   "metadata": {},
   "source": [
    "# Features\n",
    "\n",
    "- feats: useless features (they run)\n",
    "- feats: Concatenated (age,occupation + item) features "
   ]
  },
  {
   "cell_type": "markdown",
   "metadata": {},
   "source": [
    "Notice shape of each matrix"
   ]
  },
  {
   "cell_type": "code",
   "execution_count": 111,
   "metadata": {},
   "outputs": [
    {
     "name": "stdout",
     "output_type": "stream",
     "text": [
      "torch.Size([2625, 2625]) torch.Size([100000, 2]) torch.Size([100000]) torch.Size([2625])\n"
     ]
    }
   ],
   "source": [
    "print(adj.shape, edges.shape, labels.shape, feats.shape)"
   ]
  },
  {
   "cell_type": "markdown",
   "metadata": {},
   "source": [
    "This is a Bi-partitite graph so the way feature-matrix works at least what I understood is that\n",
    "there are both user and item features. So I added random features for items as of now.\n",
    "I think it needs to be of shape [2625,D] where D is the number of features for each item (maybe)"
   ]
  },
  {
   "cell_type": "code",
   "execution_count": 112,
   "metadata": {},
   "outputs": [
    {
     "name": "stdout",
     "output_type": "stream",
     "text": [
      "Occupation Encoded Matrix Data Type: int64\n",
      "Combined Features Data Type: int64\n"
     ]
    }
   ],
   "source": [
    "import os\n",
    "from sklearn.preprocessing import OneHotEncoder, LabelEncoder\n",
    "dataset_path = \"./dataset/ml-100k\"\n",
    "user_file_path = os.path.join(dataset_path, \"u.user\")\n",
    "\n",
    "# Read user data into a DataFrame\n",
    "user_data = pd.read_csv(user_file_path, sep='|', names=[\"user_id\", \"age\", \"gender\", \"occupation\", \"zip_code\"])\n",
    "\n",
    "# Extract relevant columns: Age and Occupation\n",
    "# Ensure ages are numeric by converting to float explicitly\n",
    "ages = pd.to_numeric(user_data['age'], errors='coerce').values.reshape(-1, 1)\n",
    "\n",
    "# Use a label encoder for the occupation\n",
    "occupations = user_data['occupation']\n",
    "encoder = LabelEncoder() # OneHotEncoder()\n",
    "occupations_encoded = encoder.fit_transform(occupations).reshape(-1, 1)\n",
    "\n",
    "# Verify the resulting encoding matrix is purely numeric\n",
    "print(\"Occupation Encoded Matrix Data Type:\", occupations_encoded.dtype)\n",
    "\n",
    "# Combine ages and encoded occupations\n",
    "features_np = np.hstack([ages, occupations_encoded])\n",
    "\n",
    "# Check if any data type is still problematic\n",
    "print(\"Combined Features Data Type:\", features_np.dtype)\n",
    "\n",
    "# Convert to a PyTorch tensor, ensuring a compatible data type\n",
    "user_features = torch.tensor(features_np, dtype=torch.float32)"
   ]
  },
  {
   "cell_type": "markdown",
   "metadata": {},
   "source": [
    "Looking at the unique occupations"
   ]
  },
  {
   "cell_type": "code",
   "execution_count": 113,
   "metadata": {},
   "outputs": [
    {
     "data": {
      "text/plain": [
       "{0, 1, 2, 3, 4, 5, 6, 7, 8, 9, 10, 11, 12, 13, 14, 15, 16, 17, 18, 19, 20}"
      ]
     },
     "execution_count": 113,
     "metadata": {},
     "output_type": "execute_result"
    }
   ],
   "source": [
    "set(occupations_encoded.flatten())"
   ]
  },
  {
   "cell_type": "code",
   "execution_count": 114,
   "metadata": {},
   "outputs": [],
   "source": [
    "#from torch.nn import Embedding\n",
    "#Embedding()\n",
    "# Recommended"
   ]
  },
  {
   "cell_type": "code",
   "execution_count": 115,
   "metadata": {},
   "outputs": [],
   "source": [
    "num_users = 943\n",
    "#user_features = torch.tensor(np.random.randn(num_users, 2), dtype=torch.float32)\n",
    "\n",
    "# Item features (initialize with random vectors to match the same number of columns as user features)\n",
    "num_items = 1682\n",
    "num_columns = user_features.shape[1]\n",
    "item_features = torch.zeros((num_items,num_columns),dtype=torch.float32)\n",
    "\n",
    "# Concatenate user and item features\n",
    "feats = torch.cat([user_features, item_features], dim=0)"
   ]
  },
  {
   "cell_type": "code",
   "execution_count": 25,
   "metadata": {},
   "outputs": [
    {
     "data": {
      "text/plain": [
       "torch.Size([2625, 2])"
      ]
     },
     "execution_count": 25,
     "metadata": {},
     "output_type": "execute_result"
    }
   ],
   "source": [
    "feats.shape"
   ]
  },
  {
   "cell_type": "markdown",
   "metadata": {},
   "source": [
    "# GNN Code\n",
    "\n",
    "This code was basically copy-pasted entirely from\n",
    " //pygdebias.debiasing.GNN.py\n",
    "this was done because of many suddeny import failures"
   ]
  },
  {
   "cell_type": "code",
   "execution_count": 119,
   "metadata": {},
   "outputs": [],
   "source": [
    "import torch\n",
    "import numpy as np\n",
    "import torch.nn as nn\n",
    "import torch.nn.functional as F\n",
    "from torch_geometric.nn import (\n",
    "    GCNConv,\n",
    "    GATConv,\n",
    "    GINConv,\n",
    "    SAGEConv,\n",
    "    DeepGraphInfomax,\n",
    "    JumpingKnowledge,\n",
    ")\n",
    "import os\n",
    "\n",
    "from sklearn.metrics import accuracy_score, roc_auc_score, recall_score, f1_score\n",
    "from torch.nn.utils import spectral_norm\n",
    "from torch_geometric.utils import dropout_adj, convert\n",
    "\n",
    "import torch.nn.functional as F\n",
    "import torch.optim as optim\n",
    "\n",
    "import time\n",
    "import argparse\n",
    "import numpy as np\n",
    "import scipy.sparse as sp\n",
    "trainL=[]\n",
    "valL=[]\n",
    "\n",
    "class Classifier(nn.Module):\n",
    "    def __init__(self, ft_in, nb_classes):\n",
    "        super(Classifier, self).__init__()\n",
    "\n",
    "        # Classifier projector\n",
    "        self.fc1 = spectral_norm(nn.Linear(ft_in, nb_classes))\n",
    "\n",
    "    def forward(self, seq):\n",
    "        ret = self.fc1(seq)\n",
    "        return ret\n",
    "\n",
    "\n",
    "class GCN(nn.Module):\n",
    "    def __init__(self, nfeat, nhid, dropout=0.5):\n",
    "        super(GCN, self).__init__()\n",
    "        self.gc1 = GCNConv(nfeat, nhid)\n",
    "\n",
    "    def forward(self, x, edge_index):\n",
    "        x = self.gc1(x, edge_index)\n",
    "        return x\n",
    "\n",
    "\n",
    "class GIN(nn.Module):\n",
    "    def __init__(self, nfeat, nhid, dropout=0.5):\n",
    "        super(GIN, self).__init__()\n",
    "\n",
    "        self.mlp1 = nn.Sequential(\n",
    "            spectral_norm(nn.Linear(nfeat, nhid)),\n",
    "            nn.ReLU(),\n",
    "            nn.BatchNorm1d(nhid),\n",
    "            spectral_norm(nn.Linear(nhid, nhid)),\n",
    "        )\n",
    "        self.conv1 = GINConv(self.mlp1)\n",
    "\n",
    "    def forward(self, x, edge_index):\n",
    "        x = self.conv1(x, edge_index)\n",
    "        return x\n",
    "\n",
    "\n",
    "class JK(nn.Module):\n",
    "    def __init__(self, nfeat, nhid, dropout=0.5):\n",
    "        super(JK, self).__init__()\n",
    "        self.conv1 = spectral_norm(GCNConv(nfeat, nhid))\n",
    "        self.convx = spectral_norm(GCNConv(nhid, nhid))\n",
    "        self.jk = JumpingKnowledge(mode=\"max\")\n",
    "        self.transition = nn.Sequential(\n",
    "            nn.ReLU(),\n",
    "        )\n",
    "\n",
    "        for m in self.modules():\n",
    "            self.weights_init(m)\n",
    "\n",
    "    def weights_init(self, m):\n",
    "        if isinstance(m, nn.Linear):\n",
    "            torch.nn.init.xavier_uniform_(m.weight.data)\n",
    "            if m.bias is not None:\n",
    "                m.bias.data.fill_(0.0)\n",
    "\n",
    "    def forward(self, x, edge_index):\n",
    "        xs = []\n",
    "        x = self.conv1(x, edge_index)\n",
    "        x = self.transition(x)\n",
    "        xs.append(x)\n",
    "        for _ in range(1):\n",
    "            x = self.convx(x, edge_index)\n",
    "            x = self.transition(x)\n",
    "            xs.append(x)\n",
    "        x = self.jk(xs)\n",
    "        return x\n",
    "\n",
    "\n",
    "class SAGE(nn.Module):\n",
    "    def __init__(self, nfeat, nhid, dropout=0.5):\n",
    "        super(SAGE, self).__init__()\n",
    "\n",
    "        # Implemented spectral_norm in the sage main file\n",
    "        # ~/anaconda3/envs/PYTORCH/lib/python3.7/site-packages/torch_geometric/nn/conv/sage_conv.py\n",
    "        self.conv1 = SAGEConv(nfeat, nhid, normalize=True)\n",
    "        self.conv1.aggr = \"mean\"\n",
    "        self.transition = nn.Sequential(\n",
    "            nn.ReLU(), nn.BatchNorm1d(nhid), nn.Dropout(p=dropout)\n",
    "        )\n",
    "        self.conv2 = SAGEConv(nhid, nhid, normalize=True)\n",
    "        self.conv2.aggr = \"mean\"\n",
    "\n",
    "        for m in self.modules():\n",
    "            self.weights_init(m)\n",
    "\n",
    "    def weights_init(self, m):\n",
    "        if isinstance(m, nn.Linear):\n",
    "            torch.nn.init.xavier_uniform_(m.weight.data)\n",
    "            if m.bias is not None:\n",
    "                m.bias.data.fill_(0.0)\n",
    "\n",
    "    def forward(self, x, edge_index):\n",
    "        x = self.conv1(x, edge_index)\n",
    "        x = self.transition(x)\n",
    "        x = self.conv2(x, edge_index)\n",
    "        return x\n",
    "\n",
    "\n",
    "class Encoder_DGI(nn.Module):\n",
    "    def __init__(self, nfeat, nhid):\n",
    "        super(Encoder_DGI, self).__init__()\n",
    "        self.hidden_ch = nhid\n",
    "        self.conv = spectral_norm(GCNConv(nfeat, self.hidden_ch))\n",
    "        self.activation = nn.PReLU()\n",
    "\n",
    "    def corruption(self, x, edge_index):\n",
    "        # corrupted features are obtained by row-wise shuffling of the original features\n",
    "        # corrupted graph consists of the same nodes but located in different places\n",
    "        return x[torch.randperm(x.size(0))], edge_index\n",
    "\n",
    "    def summary(self, z, *args, **kwargs):\n",
    "        return torch.sigmoid(z.mean(dim=0))\n",
    "\n",
    "    def forward(self, x, edge_index):\n",
    "        x = self.conv(x, edge_index)\n",
    "        x = self.activation(x)\n",
    "        return x\n",
    "\n",
    "\n",
    "class GraphInfoMax(nn.Module):\n",
    "    def __init__(self, enc_dgi):\n",
    "        super(GraphInfoMax, self).__init__()\n",
    "        self.dgi_model = DeepGraphInfomax(\n",
    "            enc_dgi.hidden_ch, enc_dgi, enc_dgi.summary, enc_dgi.corruption\n",
    "        )\n",
    "\n",
    "    def forward(self, x, edge_index):\n",
    "        pos_z, neg_z, summary = self.dgi_model(x, edge_index)\n",
    "        return pos_z\n",
    "\n",
    "\n",
    "class Encoder(torch.nn.Module):\n",
    "    def __init__(\n",
    "        self, in_channels: int, out_channels: int, base_model=\"gcn\", k: int = 2\n",
    "    ):\n",
    "        super(Encoder, self).__init__()\n",
    "        self.base_model = base_model\n",
    "        if self.base_model == \"gcn\":\n",
    "            self.conv = GCN(in_channels, out_channels)\n",
    "        elif self.base_model == \"gin\":\n",
    "            self.conv = GIN(in_channels, out_channels)\n",
    "        elif self.base_model == \"sage\":\n",
    "            self.conv = SAGE(in_channels, out_channels)\n",
    "        elif self.base_model == \"infomax\":\n",
    "            enc_dgi = Encoder_DGI(nfeat=in_channels, nhid=out_channels)\n",
    "            self.conv = GraphInfoMax(enc_dgi=enc_dgi)\n",
    "        elif self.base_model == \"jk\":\n",
    "            self.conv = JK(in_channels, out_channels)\n",
    "\n",
    "        for m in self.modules():\n",
    "            self.weights_init(m)\n",
    "\n",
    "    def weights_init(self, m):\n",
    "        if isinstance(m, nn.Linear):\n",
    "            torch.nn.init.xavier_uniform_(m.weight.data)\n",
    "            if m.bias is not None:\n",
    "                m.bias.data.fill_(0.0)\n",
    "\n",
    "    def forward(self, x: torch.Tensor, edge_index: torch.Tensor):\n",
    "        x = self.conv(x, edge_index)\n",
    "        return x\n",
    "\n",
    "\n",
    "class GNN(torch.nn.Module):\n",
    "    def __init__(\n",
    "        self,\n",
    "        adj,\n",
    "        features,\n",
    "        labels,\n",
    "        idx_train,\n",
    "        idx_val,\n",
    "        idx_test,\n",
    "        sens,\n",
    "        sens_idx,\n",
    "        num_hidden=16,\n",
    "        num_proj_hidden=16,\n",
    "        lr=0.001,\n",
    "        weight_decay=1e-5,\n",
    "        drop_edge_rate_1=0.1,\n",
    "        drop_edge_rate_2=0.1,\n",
    "        drop_feature_rate_1=0.1,\n",
    "        drop_feature_rate_2=0.1,\n",
    "        encoder=\"gcn\",\n",
    "        sim_coeff=0.5,\n",
    "        nclass=1,\n",
    "        device=\"cuda\",\n",
    "    ):\n",
    "        super(GNN, self).__init__()\n",
    "\n",
    "        self.device = device\n",
    "\n",
    "        # self.edge_index = convert.from_scipy_sparse_matrix(sp.coo_matrix(adj.to_dense().numpy()))[0]\n",
    "        self.edge_index = adj.coalesce().indices()\n",
    "\n",
    "        self.encoder = Encoder(\n",
    "            in_channels=features.shape[1], out_channels=num_hidden, base_model=encoder\n",
    "        ).to(device)\n",
    "        # model = SSF(encoder=encoder, num_hidden=args.hidden, num_proj_hidden=args.proj_hidden, sim_coeff=args.sim_coeff,\n",
    "        # nclass=num_class).to(device)\n",
    "\n",
    "        self.sim_coeff = sim_coeff\n",
    "        # self.encoder = encoder\n",
    "        self.labels = labels\n",
    "\n",
    "        self.idx_train = idx_train\n",
    "        self.idx_val = idx_val\n",
    "        self.idx_test = idx_test\n",
    "        self.sens = sens\n",
    "        self.sens_idx = sens_idx\n",
    "        self.drop_edge_rate_1 = self.drop_edge_rate_2 = 0\n",
    "        self.drop_feature_rate_1 = self.drop_feature_rate_2 = 0\n",
    "\n",
    "        # Projection\n",
    "        self.fc1 = nn.Sequential(\n",
    "            spectral_norm(nn.Linear(num_hidden, num_proj_hidden)),\n",
    "            nn.BatchNorm1d(num_proj_hidden),\n",
    "            nn.ReLU(inplace=True),\n",
    "        )\n",
    "        self.fc2 = nn.Sequential(\n",
    "            spectral_norm(nn.Linear(num_proj_hidden, num_hidden)),\n",
    "            nn.BatchNorm1d(num_hidden),\n",
    "        )\n",
    "\n",
    "        # Prediction\n",
    "        self.fc3 = nn.Sequential(\n",
    "            spectral_norm(nn.Linear(num_hidden, num_hidden)),\n",
    "            nn.BatchNorm1d(num_hidden),\n",
    "            nn.ReLU(inplace=True),\n",
    "        )\n",
    "        self.fc4 = spectral_norm(nn.Linear(num_hidden, num_hidden))\n",
    "\n",
    "        # Classifier\n",
    "        self.c1 = Classifier(ft_in=num_hidden, nb_classes=nclass)\n",
    "\n",
    "        for m in self.modules():\n",
    "            self.weights_init(m)\n",
    "\n",
    "        par_1 = (\n",
    "            list(self.encoder.parameters())\n",
    "            + list(self.fc1.parameters())\n",
    "            + list(self.fc2.parameters())\n",
    "            + list(self.fc3.parameters())\n",
    "            + list(self.fc4.parameters())\n",
    "        )\n",
    "        par_2 = list(self.c1.parameters()) + list(self.encoder.parameters())\n",
    "        self.optimizer_1 = optim.Adam(par_1, lr=lr, weight_decay=weight_decay)\n",
    "        self.optimizer_2 = optim.Adam(par_2, lr=lr, weight_decay=weight_decay)\n",
    "        self = self.to(device)\n",
    "\n",
    "        self.features = features.to(device)\n",
    "        self.edge_index = self.edge_index.to(device)\n",
    "        self.labels = self.labels.to(device)\n",
    "\n",
    "    def weights_init(self, m):\n",
    "        if isinstance(m, nn.Linear):\n",
    "            torch.nn.init.xavier_uniform_(m.weight.data)\n",
    "            if m.bias is not None:\n",
    "                m.bias.data.fill_(0.0)\n",
    "\n",
    "    def forward(self, x: torch.Tensor, edge_index: torch.Tensor) -> torch.Tensor:\n",
    "        return self.encoder(x, edge_index)\n",
    "\n",
    "    def projection(self, z):\n",
    "        z = self.fc1(z)\n",
    "        z = self.fc2(z)\n",
    "        return z\n",
    "\n",
    "    def prediction(self, z):\n",
    "        z = self.fc3(z)\n",
    "        z = self.fc4(z)\n",
    "        return z\n",
    "\n",
    "    def classifier(self, z):\n",
    "        return self.c1(z)\n",
    "\n",
    "    def normalize(self, x):\n",
    "        val = torch.norm(x, p=2, dim=1).detach()\n",
    "        x = x.div(val.unsqueeze(dim=1).expand_as(x))\n",
    "        return x\n",
    "\n",
    "    def D_entropy(self, x1, x2):\n",
    "        x2 = x2.detach()\n",
    "        return (\n",
    "            -torch.max(F.softmax(x2), dim=1)[0]\n",
    "            * torch.log(torch.max(F.softmax(x1), dim=1)[0])\n",
    "        ).mean()\n",
    "\n",
    "    def D(self, x1, x2):  # negative cosine similarity\n",
    "        return -F.cosine_similarity(x1, x2.detach(), dim=-1).mean()\n",
    "\n",
    "    def loss(self, z1: torch.Tensor, z2: torch.Tensor, z3: torch.Tensor, e_1, e_2, idx):\n",
    "\n",
    "        # projector\n",
    "        p1 = self.projection(z1)\n",
    "        p2 = self.projection(z2)\n",
    "\n",
    "        # predictor\n",
    "        h1 = self.prediction(p1)\n",
    "        h2 = self.prediction(p2)\n",
    "\n",
    "        # classifier\n",
    "        c1 = self.classifier(z1)\n",
    "\n",
    "        l1 = self.D(h1[idx], p2[idx]) / 2\n",
    "        l2 = self.D(h2[idx], p1[idx]) / 2\n",
    "        l3 = F.cross_entropy(c1[idx], z3[idx].squeeze().long().detach())\n",
    "\n",
    "        return self.sim_coeff * (l1 + l2), l3\n",
    "\n",
    "    def forwarding_predict(self, emb):\n",
    "\n",
    "        # classifier\n",
    "        c1 = self.classifier(emb)\n",
    "\n",
    "        return c1\n",
    "\n",
    "    def fit(self, epochs=300):\n",
    "        best_loss = 100\n",
    "        for epoch in range(epochs + 1):\n",
    "            sim_loss = 0\n",
    "\n",
    "            self.train()\n",
    "            self.optimizer_2.zero_grad()\n",
    "            edge_index_1 = self.edge_index\n",
    "            x_1 = self.features\n",
    "\n",
    "            # classifier\n",
    "            z1 = self.forward(x_1, edge_index_1)\n",
    "            c1 = self.classifier(z1)\n",
    "\n",
    "            # Binary Cross-Entropy\n",
    "            cl_loss = F.binary_cross_entropy_with_logits(\n",
    "                c1[self.idx_train],\n",
    "                self.labels[self.idx_train].unsqueeze(1).float().to(self.device),\n",
    "            )\n",
    "\n",
    "            cl_loss.backward()\n",
    "            self.optimizer_2.step()\n",
    "\n",
    "            # Validation\n",
    "            self.eval()\n",
    "            z_val = self.forward(self.features, self.edge_index)\n",
    "            c_val = self.classifier(z_val)\n",
    "            val_loss = F.binary_cross_entropy_with_logits(\n",
    "                c_val[self.idx_val],\n",
    "                self.labels[self.idx_val].unsqueeze(1).float().to(self.device),\n",
    "            )\n",
    "\n",
    "            if epoch % 10 == 0:\n",
    "                trainL.append(cl_loss.item())\n",
    "                valL.append(val_loss.item())\n",
    "                print(f\"[Train] Epoch {epoch}: train_c_loss: {cl_loss:.4f} | val_c_loss: {val_loss:.4f}\")\n",
    "\n",
    "            if (val_loss) < best_loss:\n",
    "                self.val_loss = val_loss.item()\n",
    "\n",
    "                best_loss = val_loss\n",
    "                if not os.path.exists(\"data\"):\n",
    "                    os.makedirs(\"data\")\n",
    "                torch.save(self.state_dict(), f\"./data/weights_GNN_sage.pt\")\n",
    "\n",
    "    def predict(self):\n",
    "\n",
    "        self.load_state_dict(torch.load(f\"./data/weights_GNN_sage.pt\"))\n",
    "        self.eval()\n",
    "        emb = self.forward(\n",
    "            self.features.to(self.device), self.edge_index.to(self.device)\n",
    "        )\n",
    "        output = self.forwarding_predict(emb)\n",
    "\n",
    "        output_preds = (\n",
    "            (output.squeeze() > 0)\n",
    "            .type_as(self.labels)[self.idx_test]\n",
    "            .detach()\n",
    "            .cpu()\n",
    "            .numpy()\n",
    "        )\n",
    "\n",
    "        labels = self.labels.detach().cpu().numpy()\n",
    "        idx_test = self.idx_test\n",
    "\n",
    "        F1 = f1_score(labels[idx_test], output_preds, average=\"micro\")\n",
    "        ACC = accuracy_score(\n",
    "            labels[idx_test],\n",
    "            output_preds,\n",
    "        )\n",
    "        try:\n",
    "            AUCROC = roc_auc_score(labels[idx_test], output_preds)\n",
    "        except:\n",
    "            AUCROC = \"nan\"\n",
    "\n",
    "        ACC_sens0, AUCROC_sens0, F1_sens0, ACC_sens1, AUCROC_sens1, F1_sens1 = (\n",
    "            self.predict_sens_group(output_preds, idx_test)\n",
    "        )\n",
    "\n",
    "        SP, EO = self.fair_metric(\n",
    "            output_preds,\n",
    "            self.labels[idx_test].detach().cpu().numpy(),\n",
    "            self.sens[idx_test].detach().cpu().numpy(),\n",
    "        )\n",
    "\n",
    "        return (\n",
    "            ACC,\n",
    "            AUCROC,\n",
    "            F1,\n",
    "            ACC_sens0,\n",
    "            AUCROC_sens0,\n",
    "            F1_sens0,\n",
    "            ACC_sens1,\n",
    "            AUCROC_sens1,\n",
    "            F1_sens1,\n",
    "            SP,\n",
    "            EO,\n",
    "        )\n",
    "\n",
    "    def fair_metric(self, pred, labels, sens):\n",
    "\n",
    "        idx_s0 = sens == 0\n",
    "        idx_s1 = sens == 1\n",
    "        idx_s0_y1 = np.bitwise_and(idx_s0, labels == 1)\n",
    "        idx_s1_y1 = np.bitwise_and(idx_s1, labels == 1)\n",
    "        parity = abs(sum(pred[idx_s0]) / sum(idx_s0) - sum(pred[idx_s1]) / sum(idx_s1))\n",
    "        equality = abs(\n",
    "            sum(pred[idx_s0_y1]) / sum(idx_s0_y1)\n",
    "            - sum(pred[idx_s1_y1]) / sum(idx_s1_y1)\n",
    "        )\n",
    "        return parity.item(), equality.item()\n",
    "\n",
    "    def predict_sens_group(self, output, idx_test):\n",
    "        # pred = self.lgreg.predict(self.embs[idx_test])\n",
    "        pred = output\n",
    "        result = []\n",
    "        for sens in [0, 1]:\n",
    "            F1 = f1_score(\n",
    "                self.labels[idx_test][self.sens[idx_test] == sens]\n",
    "                .detach()\n",
    "                .cpu()\n",
    "                .numpy(),\n",
    "                pred[self.sens[idx_test] == sens],\n",
    "                average=\"micro\",\n",
    "            )\n",
    "            ACC = accuracy_score(\n",
    "                self.labels[idx_test][self.sens[idx_test] == sens]\n",
    "                .detach()\n",
    "                .cpu()\n",
    "                .numpy(),\n",
    "                pred[self.sens[idx_test] == sens],\n",
    "            )\n",
    "            try:\n",
    "                AUCROC = roc_auc_score(\n",
    "                    self.labels[idx_test][self.sens[idx_test] == sens]\n",
    "                    .detach()\n",
    "                    .cpu()\n",
    "                    .numpy(),\n",
    "                    pred[self.sens[idx_test] == sens],\n",
    "                )\n",
    "            except:\n",
    "                AUCROC = \"nan\"\n",
    "            result.extend([ACC, AUCROC, F1])\n",
    "\n",
    "        return result\n",
    "\n",
    "\n",
    "def drop_feature(x, drop_prob, sens_idx, sens_flag=True):\n",
    "    drop_mask = (\n",
    "        torch.empty((x.size(1),), dtype=torch.float32, device=x.device).uniform_(0, 1)\n",
    "        < drop_prob\n",
    "    )\n",
    "\n",
    "    x = x.clone()\n",
    "    drop_mask[sens_idx] = False\n",
    "\n",
    "    x[:, drop_mask] += torch.ones(1).normal_(0, 1).to(x.device)\n",
    "\n",
    "    # Flip sensitive attribute\n",
    "    if sens_flag:\n",
    "        x[:, sens_idx] = 1 - x[:, sens_idx]\n",
    "\n",
    "    return x\n"
   ]
  },
  {
   "cell_type": "markdown",
   "metadata": {},
   "source": [
    "most of the training is being done in fit() method.\n",
    "Remove cuda() if you want to.\n"
   ]
  },
  {
   "cell_type": "code",
   "execution_count": 120,
   "metadata": {},
   "outputs": [
    {
     "name": "stdout",
     "output_type": "stream",
     "text": [
      "[Train] Epoch 0: train_c_loss: 2.2047 | val_c_loss: 2.1555\n",
      "[Train] Epoch 10: train_c_loss: 1.4873 | val_c_loss: 1.4401\n",
      "[Train] Epoch 20: train_c_loss: 0.8971 | val_c_loss: 0.8711\n",
      "[Train] Epoch 30: train_c_loss: 0.6904 | val_c_loss: 0.7051\n",
      "[Train] Epoch 40: train_c_loss: 0.7230 | val_c_loss: 0.7317\n",
      "[Train] Epoch 50: train_c_loss: 0.6910 | val_c_loss: 0.6970\n",
      "[Train] Epoch 60: train_c_loss: 0.6868 | val_c_loss: 0.6934\n",
      "[Train] Epoch 70: train_c_loss: 0.6854 | val_c_loss: 0.6894\n",
      "[Train] Epoch 80: train_c_loss: 0.6835 | val_c_loss: 0.6865\n",
      "[Train] Epoch 90: train_c_loss: 0.6834 | val_c_loss: 0.6853\n",
      "[Train] Epoch 100: train_c_loss: 0.6831 | val_c_loss: 0.6844\n",
      "[Train] Epoch 110: train_c_loss: 0.6831 | val_c_loss: 0.6839\n",
      "[Train] Epoch 120: train_c_loss: 0.6830 | val_c_loss: 0.6835\n",
      "[Train] Epoch 130: train_c_loss: 0.6830 | val_c_loss: 0.6834\n",
      "[Train] Epoch 140: train_c_loss: 0.6830 | val_c_loss: 0.6833\n",
      "[Train] Epoch 150: train_c_loss: 0.6830 | val_c_loss: 0.6832\n",
      "[Train] Epoch 160: train_c_loss: 0.6830 | val_c_loss: 0.6832\n",
      "[Train] Epoch 170: train_c_loss: 0.6829 | val_c_loss: 0.6832\n",
      "[Train] Epoch 180: train_c_loss: 0.6829 | val_c_loss: 0.6832\n",
      "[Train] Epoch 190: train_c_loss: 0.6829 | val_c_loss: 0.6832\n",
      "[Train] Epoch 200: train_c_loss: 0.6829 | val_c_loss: 0.6832\n",
      "[Train] Epoch 210: train_c_loss: 0.6829 | val_c_loss: 0.6832\n",
      "[Train] Epoch 220: train_c_loss: 0.6829 | val_c_loss: 0.6832\n",
      "[Train] Epoch 230: train_c_loss: 0.6828 | val_c_loss: 0.6832\n",
      "[Train] Epoch 240: train_c_loss: 0.6828 | val_c_loss: 0.6832\n",
      "[Train] Epoch 250: train_c_loss: 0.6828 | val_c_loss: 0.6832\n",
      "[Train] Epoch 260: train_c_loss: 0.6828 | val_c_loss: 0.6832\n",
      "[Train] Epoch 270: train_c_loss: 0.6828 | val_c_loss: 0.6832\n",
      "[Train] Epoch 280: train_c_loss: 0.6828 | val_c_loss: 0.6832\n",
      "[Train] Epoch 290: train_c_loss: 0.6827 | val_c_loss: 0.6832\n",
      "[Train] Epoch 300: train_c_loss: 0.6827 | val_c_loss: 0.6832\n",
      "[Train] Epoch 310: train_c_loss: 0.6827 | val_c_loss: 0.6832\n",
      "[Train] Epoch 320: train_c_loss: 0.6827 | val_c_loss: 0.6832\n",
      "[Train] Epoch 330: train_c_loss: 0.6827 | val_c_loss: 0.6832\n",
      "[Train] Epoch 340: train_c_loss: 0.6826 | val_c_loss: 0.6832\n",
      "[Train] Epoch 350: train_c_loss: 0.6826 | val_c_loss: 0.6832\n",
      "[Train] Epoch 360: train_c_loss: 0.6826 | val_c_loss: 0.6832\n",
      "[Train] Epoch 370: train_c_loss: 0.6826 | val_c_loss: 0.6832\n",
      "[Train] Epoch 380: train_c_loss: 0.6826 | val_c_loss: 0.6832\n",
      "[Train] Epoch 390: train_c_loss: 0.6825 | val_c_loss: 0.6832\n",
      "[Train] Epoch 400: train_c_loss: 0.6825 | val_c_loss: 0.6832\n",
      "[Train] Epoch 410: train_c_loss: 0.6825 | val_c_loss: 0.6832\n",
      "[Train] Epoch 420: train_c_loss: 0.6825 | val_c_loss: 0.6832\n",
      "[Train] Epoch 430: train_c_loss: 0.6825 | val_c_loss: 0.6832\n",
      "[Train] Epoch 440: train_c_loss: 0.6824 | val_c_loss: 0.6832\n",
      "[Train] Epoch 450: train_c_loss: 0.6824 | val_c_loss: 0.6832\n",
      "[Train] Epoch 460: train_c_loss: 0.6824 | val_c_loss: 0.6832\n",
      "[Train] Epoch 470: train_c_loss: 0.6824 | val_c_loss: 0.6832\n",
      "[Train] Epoch 480: train_c_loss: 0.6824 | val_c_loss: 0.6832\n",
      "[Train] Epoch 490: train_c_loss: 0.6823 | val_c_loss: 0.6832\n",
      "[Train] Epoch 500: train_c_loss: 0.6823 | val_c_loss: 0.6832\n"
     ]
    }
   ],
   "source": [
    "# Create the device object\n",
    "import os\n",
    "os.environ['CUDA_LAUNCH_BLOCKING'] = '1'\n",
    "\n",
    "model = GNN(\n",
    "    adj,\n",
    "    feats,\n",
    "    labels,\n",
    "    idx_train,\n",
    "    idx_val,\n",
    "    idx_test,\n",
    "    sens,\n",
    "    sens_idx,\n",
    "    drop_feature_rate_1=0,\n",
    "    drop_feature_rate_2=0,\n",
    "    num_hidden=8,\n",
    "    num_proj_hidden=8\n",
    ")\n",
    "# Train the model\n",
    "model.fit(epochs=500)\n"
   ]
  },
  {
   "cell_type": "markdown",
   "metadata": {},
   "source": [
    "PS: I have absolutely no-clue wht the code gives ACC and all that as 1 and the rest as 0. Seems super strange not gonna lie. Some of them are 1 and some of them are 0."
   ]
  },
  {
   "cell_type": "code",
   "execution_count": 121,
   "metadata": {},
   "outputs": [
    {
     "data": {
      "image/png": "[encoded data removed]",
      "text/plain": [
       "<Figure size 432x288 with 1 Axes>"
      ]
     },
     "metadata": {
      "needs_background": "light"
     },
     "output_type": "display_data"
    }
   ],
   "source": [
    "import matplotlib.pyplot as plt\n",
    "plt.plot(trainL,label=\"Train loss\")\n",
    "plt.plot(valL,label=\"Test loss\")\n",
    "plt.legend()\n",
    "plt.show()"
   ]
  },
  {
   "cell_type": "markdown",
   "metadata": {},
   "source": [
    "The predict method invokes `fair_metrics`"
   ]
  },
  {
   "cell_type": "code",
   "execution_count": 122,
   "metadata": {},
   "outputs": [
    {
     "name": "stdout",
     "output_type": "stream",
     "text": [
      "ACC: 0.5485232067510548\n",
      "AUCROC:  0.5\n",
      "F1:  0.5485232067510548\n",
      "ACC_sens0: 0.581081081081081\n",
      "AUCROC_sens0:  0.5\n",
      "F1_sens0:  0.581081081081081\n",
      "ACC_sens1:  0.5337423312883436\n",
      "AUCROC_sens1:  0.5\n",
      "F1_sens1:  0.5337423312883436\n",
      "SP:  0.0\n",
      "EO: 0.0\n"
     ]
    }
   ],
   "source": [
    "(\n",
    "    ACC,\n",
    "    AUCROC,\n",
    "    F1,\n",
    "    ACC_sens0,\n",
    "    AUCROC_sens0,\n",
    "    F1_sens0,\n",
    "    ACC_sens1,\n",
    "    AUCROC_sens1,\n",
    "    F1_sens1,\n",
    "    SP,\n",
    "    EO,\n",
    ") = model.predict()\n",
    "\n",
    "print(\"ACC:\", ACC)\n",
    "print(\"AUCROC: \", AUCROC)\n",
    "print(\"F1: \", F1)\n",
    "print(\"ACC_sens0:\", ACC_sens0)\n",
    "print(\"AUCROC_sens0: \", AUCROC_sens0)\n",
    "print(\"F1_sens0: \", F1_sens0)\n",
    "print(\"ACC_sens1: \", ACC_sens1)\n",
    "print(\"AUCROC_sens1: \", AUCROC_sens1)\n",
    "print(\"F1_sens1: \", F1_sens1)\n",
    "print(\"SP: \", SP)\n",
    "print(\"EO:\", EO)\n"
   ]
  },
  {
   "cell_type": "markdown",
   "metadata": {},
   "source": [
    "F1 Score, Acc Score. Group-based scores are denoted by METRIC_sens0/1. SP and EO are parity and equal odds "
   ]
  }
 ],
 "metadata": {
  "kernelspec": {
   "display_name": "pygdebias",
   "language": "python",
   "name": "python3"
  },
  "language_info": {
   "codemirror_mode": {
    "name": "ipython",
    "version": 3
   },
   "file_extension": ".py",
   "mimetype": "text/x-python",
   "name": "python",
   "nbconvert_exporter": "python",
   "pygments_lexer": "ipython3",
   "version": "3.9.19"
  }
 },
 "nbformat": 4,
 "nbformat_minor": 2
}
